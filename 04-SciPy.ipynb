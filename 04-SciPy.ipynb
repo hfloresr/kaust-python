{
 "cells": [
  {
   "cell_type": "markdown",
   "metadata": {},
   "source": [
    "# 2. Scipy: high-level scientific computing\n",
    "\n",
    "the `scipy` package contains various toolboxes dedicated to common issues in scientific computing. Its different submodules correspond to different applications, such as interpolation, integration, optimization, image processing, statistics, special functions, etc.\n",
    "\n",
    "`scipy` can be compared to other standard scientific-computing libraries, such as the GSL (GNU Scientific Library for C and C++), or Matlab's toolboxes. `scipy` is the core package for scientific routines in Python; it is meant to operate efficiently on `numpy` arrays, so that numpy and scipy work hand in had.\n",
    "\n",
    "Before implementing a routine, it is worth checking if the desired data processing is not already implemented in Scipy. As non-professional programmers, scientists often tend to **re-invent the wheel**, which leads to buggy, non-optimal, difficult-to-share and unmaintainable code. By contrast, `scipy`'s routines are optimized and tested, and should therefore be used when possible"
   ]
  },
  {
   "cell_type": "markdown",
   "metadata": {},
   "source": [
    "**scipy** is composed of taks-specific sub-modules:\n",
    "* **scipy.cluster**     : Vector quantization / Kmeans\n",
    "* **scipy.constants**   : Physical and mathematical constants\n",
    "* **scipy.fftpack**     : Fourier transform\n",
    "* **scipy.integrate**   : Integration routines\n",
    "* **scipy.interpolate** : Interpolation\n",
    "* **scipy.io**          : Data input and output\n",
    "* **scipy.linalg**      : Linear algebra routines\n",
    "* **scipy.ndimage**     : n-dimensional image package\n",
    "* **scipy.odr**         : Orthogonal distance regression\n",
    "* **scipy.optimize**    : Optimization\n",
    "* **scipy.signal**      : Signal processing\n",
    "* **scipy.sparse**      : Sparse matrices\n",
    "* **scipy.spatial**     : Spatial data structures and algorithms\n",
    "* **scipy.special**     : Any special mathematical functions\n",
    "* **scipy.stats**       : Statistics\n",
    "\n",
    "They all depend on **numpy**, but are mostly independent of each other. the standard way of importing Numpy and Scipy modules is following:"
   ]
  },
  {
   "cell_type": "code",
   "execution_count": null,
   "metadata": {
    "collapsed": true
   },
   "outputs": [],
   "source": [
    "import numpy as np\n",
    "from scipy import stats  # same for other sub-modules"
   ]
  },
  {
   "cell_type": "code",
   "execution_count": null,
   "metadata": {
    "collapsed": true
   },
   "outputs": [],
   "source": []
  }
 ],
 "metadata": {
  "kernelspec": {
   "display_name": "Python 3",
   "language": "python",
   "name": "python3"
  },
  "language_info": {
   "codemirror_mode": {
    "name": "ipython",
    "version": 3
   },
   "file_extension": ".py",
   "mimetype": "text/x-python",
   "name": "python",
   "nbconvert_exporter": "python",
   "pygments_lexer": "ipython3",
   "version": "3.6.2"
  }
 },
 "nbformat": 4,
 "nbformat_minor": 2
}
