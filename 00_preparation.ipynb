{
 "cells": [
  {
   "cell_type": "markdown",
   "metadata": {},
   "source": [
    "# Table of Contents\n",
    "* [Overview](#Overview)\n",
    "\t* [Prepare](#Prepare)\n",
    "\t* [Dask](#Dask)\n",
    "    * [Jupyter](#Jupyter)"
   ]
  },
  {
   "cell_type": "markdown",
   "metadata": {},
   "source": [
    "# Overview"
   ]
  },
  {
   "cell_type": "markdown",
   "metadata": {},
   "source": [
    "This tutorial is intended to be the first step on your Python journey\n",
    "\n",
    "In it you will learn how to\n",
    "\n",
    "* get a Python environment up and running with all the necessary tools\n",
    "* execute simple Python commands\n",
    "* run a sample program\n",
    "* install the Python programs that underpin these lectures\n"
   ]
  },
  {
   "cell_type": "markdown",
   "metadata": {},
   "source": [
    "## Prepare"
   ]
  },
  {
   "cell_type": "markdown",
   "metadata": {},
   "source": [
    "**First Steps: Installing Anaconda**\n",
    "\n",
    "Installing Anaconda is straightforward: [download](https://www.continuum.io/downloads) the binary and follow the instructions\n",
    "\n",
    "**Important points:**\n",
    "* Install the latest version (using Python 3.6)\n",
    "* If you are asked during the installation process whether you’d like to make Anaconda your default Python installation, say **yes**\n",
    "* Otherwise you can accept all of the defaults\n",
    "\n",
    "\n",
    "**Package Management**\n",
    "\n",
    "The packages in Anaconda contain the various scientific libraries used in day to day scientific programming\n",
    "\n",
    "Anaconda supplies a great tool called conda to keep your packages organized and up to date\n",
    "\n",
    "One conda command you should execute regularly is the one that updates the whole Anaconda distribution\n",
    "\n",
    "As a practice run, please execute the following\n",
    "\n",
    "1. Open up a terminal\n",
    "    * If you don’t know what a terminal is\n",
    "        * For Mac users, see this [guide](http://guides.macrumors.com/Terminal)\n",
    "        * For Windows users, search for the Anaconda prompt application or see [this guide](http://www.computerhope.com/issues/chdos.htm)\n",
    "        * Linux users – you already know what a terminal is\n",
    "\n",
    "2. Type `conda update anaconda`\n",
    "\n",
    "(If you’ve already installed Anaconda and it was a little while ago, please make sure you execute this step)\n",
    "\n",
    "Another useful command is `conda info`, which tells you about your installation\n",
    "\n",
    "For more information on `conda`\n",
    "* type `conda help` in a terminal\n",
    "* read the documentation [online](http://conda.pydata.org/docs/intro.html)"
   ]
  },
  {
   "cell_type": "markdown",
   "metadata": {},
   "source": [
    "## Dask"
   ]
  },
  {
   "cell_type": "markdown",
   "metadata": {},
   "source": [
    "You will need the following core libraries\n",
    "\n",
    "    conda install numpy pandas h5py Pillow matplotlib scipy toolz pytables fastparquet\n",
    "\n",
    "And a recently updated version of Dask\n",
    "\n",
    "    conda install dask distributed\n",
    "\n",
    "The following is useful for task graph visualization\n",
    "```\n",
    "    conda install graphviz\n",
    "```\n",
    "\n",
    "You should clone this repository\n",
    "\n",
    "    git clone http://github.com/hfloresr/kaust-python-tutorial\n",
    "\n",
    "and then run this script to prepare artificial data."
   ]
  },
  {
   "cell_type": "code",
   "execution_count": null,
   "metadata": {
    "collapsed": true
   },
   "outputs": [],
   "source": [
    "# in directory dask-tutorial/\n",
    "# this takes a little while\n",
    "%run prep.py"
   ]
  },
  {
   "cell_type": "markdown",
   "metadata": {},
   "source": [
    "## Jupyter"
   ]
  },
  {
   "cell_type": "markdown",
   "metadata": {},
   "source": [
    "Jupyter notebooks are one of the many possible ways to interact with Python and the scientific Python stack\n",
    "\n",
    "Jupyter notebooks provide a browser-based interface to Python with\n",
    "\n",
    "* The ability to write and execute Python commands\n",
    "* Formatted output in the browser, including tables, figures, animation, etc.\n",
    "* The option to mix in formatted text and mathematical expressions\n",
    "\n",
    "Because of these possibilities, Jupyter is fast turning into a very major player in the scientific computing ecosystem\n",
    "\n",
    "Here’s an image of showing execution of some code in a Jupyter notebook\n",
    "\n",
    "<img src=\"images/jp_demo.png\" width=\"45%\" align=\"center\">"
   ]
  },
  {
   "cell_type": "markdown",
   "metadata": {},
   "source": [
    "**Starting the Jupyter Notebook**\n",
    "\n",
    "To start the Jupyter notebook, either\n",
    "\n",
    "* search for Jupyter in your applications menu, or\n",
    "* open up a terminal (`cmd` for Windows) and type `jupyter notebook` (our preferred option)\n"
   ]
  },
  {
   "cell_type": "code",
   "execution_count": null,
   "metadata": {
    "collapsed": true
   },
   "outputs": [],
   "source": []
  }
 ],
 "metadata": {
  "kernelspec": {
   "display_name": "Python 3",
   "language": "python",
   "name": "python3"
  },
  "language_info": {
   "codemirror_mode": {
    "name": "ipython",
    "version": 3
   },
   "file_extension": ".py",
   "mimetype": "text/x-python",
   "name": "python",
   "nbconvert_exporter": "python",
   "pygments_lexer": "ipython3",
   "version": "3.6.1"
  }
 },
 "nbformat": 4,
 "nbformat_minor": 2
}
